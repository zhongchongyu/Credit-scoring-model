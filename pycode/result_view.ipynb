{
 "cells": [
  {
   "cell_type": "code",
   "execution_count": 1,
   "metadata": {},
   "outputs": [],
   "source": [
    "def eval_gini(y_true, y_prob):\n",
    "    y_true = np.asarray(y_true)\n",
    "    y_true = y_true[np.argsort(y_prob)]\n",
    "    ntrue = 0\n",
    "    gini = 0\n",
    "    delta = 0\n",
    "    n = len(y_true)\n",
    "    for i in range(n-1, -1, -1):\n",
    "        y_i = y_true[i]\n",
    "        ntrue += y_i\n",
    "        gini += y_i * delta\n",
    "        delta += 1 - y_i\n",
    "    gini = 1 - 2 * gini / (ntrue * (n - ntrue))\n",
    "    return gini\n",
    "\n",
    "\n",
    "import warnings\n",
    "import numpy as np\n",
    "import pandas as pd\n",
    "import time\n",
    "import matplotlib.pyplot as plt\n",
    "from sklearn.metrics import roc_curve, auc ,roc_auc_score\n",
    "from sklearn.model_selection import StratifiedKFold\n",
    "warnings.filterwarnings(\"ignore\")"
   ]
  },
  {
   "cell_type": "code",
   "execution_count": 12,
   "metadata": {},
   "outputs": [],
   "source": [
    "def get_data(modle):\n",
    "    df = pd.read_csv(base_path + modle +  '_train.csv')\n",
    "    return df\n",
    "\n",
    "def get_pred_class(df):\n",
    "    threshold = np.percentile(df.pred,93.75)\n",
    "    df['pred_class'] = 0\n",
    "    df.pred_class[df.pred > threshold] = 1\n",
    "    return df\n",
    "\n",
    "def get_score(modle):\n",
    "    data = get_data(modle)\n",
    "    data = get_pred_class(data)\n",
    "    TP,TN,FP,FN =0,0,0,0\n",
    "    \n",
    "    for i in range(len(data)):\n",
    "        if data.y[i] == 1 and data.pred_class[i] == 1:\n",
    "            TP += 1\n",
    "        elif data.y[i] == 0 and data.pred_class[i] == 0:\n",
    "            TN += 1\n",
    "        elif data.y[i] == 0 and data.pred_class[i] == 1:\n",
    "            FP += 1\n",
    "        elif data.y[i] == 1 and data.pred_class[i] == 0: \n",
    "            FN += 1\n",
    "            \n",
    "    recall = TP / (TP+FN)\n",
    "    precision = TP / (TP+FP)\n",
    "    accuracy = (TP+TN) / (TP+TN+FP+FN)\n",
    "    F1_Score = 2*TP / (2*TP + FP + TN)\n",
    "    FRR = FP / (FP+TN)\n",
    "    PPR = TP / (TP+TN)\n",
    "    gini = eval_gini(data.y, data.pred)\n",
    "    auc = (gini+1)/2\n",
    "    \n",
    "    index = ['auc','gini','recall','precision','F1_Score','accuracy','FRR','PPR']\n",
    "    score = [auc,gini,recall,precision,F1_Score,accuracy,FRR,PPR]\n",
    "    result = pd.DataFrame(index=index, data=score, columns=['result'])\n",
    "    return result\n",
    "\n",
    "\n",
    "def plot_auc(modle):\n",
    "    data = get_data(modle)\n",
    "    data = get_pred_class(data)\n",
    "    \n",
    "    # 计算 ROC 曲线的点\n",
    "    fpr, tpr, thresholds = roc_curve(data.y, data.pred)\n",
    "    \n",
    "    # 设置图片大小\n",
    "    fig = plt.figure()\n",
    "    fig.set(alpha=0)\n",
    "    fig.set_size_inches(5, 4)\n",
    "    \n",
    "    # 画 ROC 曲线，以及随机情况下的 ROC 曲线\n",
    "    plt.plot(fpr,tpr,'-',color=(1, 0.0, 0.0), label='ROC (area = %0.2f)' % roc_auc_score(data.y,data.pred), lw=1.7)\n",
    "    plt.plot([0, 1], [0, 1], '--', color=(0.3, 0.3, 0.3), label='Random Chance', lw=2)\n",
    "    \n",
    "    # 填充 ROC 曲线的下方\n",
    "    plt.fill_between(fpr, np.zeros(len(fpr)), tpr, color = (0.0, 1, 1), alpha = 0.3)\n",
    "    \n",
    "    # 图片调整\n",
    "    plt.xlim(0, 1)\n",
    "    plt.ylim(0, 1)\n",
    "    plt.title(modle)\n",
    "    plt.xlabel('False Positive Rate')  \n",
    "    plt.ylabel('True Positive Rate')   \n",
    "    plt.legend(loc=\"lower right\")\n",
    "    plt.grid()\n",
    "    plt.show()\n",
    "    "
   ]
  },
  {
   "cell_type": "code",
   "execution_count": 5,
   "metadata": {},
   "outputs": [],
   "source": [
    "base_path = 'D:/DataSet/Credit/result/'\n",
    "file_list = ['linear','GLM','FFM', 'NN', 'SimpleBayes', 'BayesNet', 'RF', 'xgboost','RGF','gcForest','Ensemble','BadEnsemble']"
   ]
  },
  {
   "cell_type": "code",
   "execution_count": 13,
   "metadata": {},
   "outputs": [
    {
     "data": {
      "image/png": "[encoded data removed]",
      "text/plain": [
       "<matplotlib.figure.Figure at 0xa83e748>"
      ]
     },
     "metadata": {},
     "output_type": "display_data"
    }
   ],
   "source": [
    "plot_auc('Ensemble')"
   ]
  },
  {
   "cell_type": "code",
   "execution_count": 8,
   "metadata": {},
   "outputs": [
    {
     "data": {
      "text/html": [
       "<div>\n",
       "<style>\n",
       "    .dataframe thead tr:only-child th {\n",
       "        text-align: right;\n",
       "    }\n",
       "\n",
       "    .dataframe thead th {\n",
       "        text-align: left;\n",
       "    }\n",
       "\n",
       "    .dataframe tbody tr th {\n",
       "        vertical-align: top;\n",
       "    }\n",
       "</style>\n",
       "<table border=\"1\" class=\"dataframe\">\n",
       "  <thead>\n",
       "    <tr style=\"text-align: right;\">\n",
       "      <th></th>\n",
       "      <th>result</th>\n",
       "    </tr>\n",
       "  </thead>\n",
       "  <tbody>\n",
       "    <tr>\n",
       "      <th>auc</th>\n",
       "      <td>0.874304</td>\n",
       "    </tr>\n",
       "    <tr>\n",
       "      <th>gini</th>\n",
       "      <td>0.748608</td>\n",
       "    </tr>\n",
       "    <tr>\n",
       "      <th>recall</th>\n",
       "      <td>0.358400</td>\n",
       "    </tr>\n",
       "    <tr>\n",
       "      <th>precision</th>\n",
       "      <td>0.358400</td>\n",
       "    </tr>\n",
       "    <tr>\n",
       "      <th>F1_Score</th>\n",
       "      <td>0.045607</td>\n",
       "    </tr>\n",
       "    <tr>\n",
       "      <th>accuracy</th>\n",
       "      <td>0.919800</td>\n",
       "    </tr>\n",
       "    <tr>\n",
       "      <th>FRR</th>\n",
       "      <td>0.042773</td>\n",
       "    </tr>\n",
       "    <tr>\n",
       "      <th>PPR</th>\n",
       "      <td>0.024353</td>\n",
       "    </tr>\n",
       "  </tbody>\n",
       "</table>\n",
       "</div>"
      ],
      "text/plain": [
       "             result\n",
       "auc        0.874304\n",
       "gini       0.748608\n",
       "recall     0.358400\n",
       "precision  0.358400\n",
       "F1_Score   0.045607\n",
       "accuracy   0.919800\n",
       "FRR        0.042773\n",
       "PPR        0.024353"
      ]
     },
     "execution_count": 8,
     "metadata": {},
     "output_type": "execute_result"
    }
   ],
   "source": [
    "get_score('BadEnsemble')"
   ]
  },
  {
   "cell_type": "code",
   "execution_count": null,
   "metadata": {},
   "outputs": [],
   "source": []
  }
 ],
 "metadata": {
  "kernelspec": {
   "display_name": "Python 3",
   "language": "python",
   "name": "python3"
  },
  "language_info": {
   "codemirror_mode": {
    "name": "ipython",
    "version": 3
   },
   "file_extension": ".py",
   "mimetype": "text/x-python",
   "name": "python",
   "nbconvert_exporter": "python",
   "pygments_lexer": "ipython3",
   "version": "3.6.2"
  }
 },
 "nbformat": 4,
 "nbformat_minor": 2
}
